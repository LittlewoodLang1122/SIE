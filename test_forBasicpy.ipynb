{
 "cells": [
  {
   "cell_type": "code",
   "execution_count": 2,
   "metadata": {},
   "outputs": [],
   "source": [
    "import numpy as np"
   ]
  },
  {
   "cell_type": "code",
   "execution_count": 38,
   "metadata": {},
   "outputs": [
    {
     "data": {
      "text/plain": [
       "1000"
      ]
     },
     "execution_count": 38,
     "metadata": {},
     "output_type": "execute_result"
    }
   ],
   "source": [
    "class phs():\n",
    "    def __init__(self) -> None:\n",
    "        self.games = 1000\n",
    "\n",
    "    def say(self):\n",
    "        print(\"I have {} games, I'm strong\".format(self.games))\n",
    "\n",
    "class phs2():\n",
    "    def __init__(self) -> None:\n",
    "        self.games = 100\n",
    "\n",
    "    def say(self):\n",
    "        print(\"I have {} games, I'm strong\".format(self.games))\n",
    "\n",
    "def ljn(p:'phs|phs2'):\n",
    "    return p.games\n",
    "\n",
    "p = phs()\n",
    "q = phs2()\n",
    "ljn(p)"
   ]
  },
  {
   "cell_type": "code",
   "execution_count": 6,
   "metadata": {},
   "outputs": [
    {
     "name": "stdout",
     "output_type": "stream",
     "text": [
      "[1, 2, 2]\n",
      "abc\n"
     ]
    },
    {
     "data": {
      "text/plain": [
       "[1, 2, 2]"
      ]
     },
     "execution_count": 6,
     "metadata": {},
     "output_type": "execute_result"
    }
   ],
   "source": [
    "listo = {}\n",
    "p = [1,2,2]\n",
    "listo[1] = p\n",
    "listo[0] = \"abc\"\n",
    "for value in listo.values():\n",
    "    print(value)\n",
    "\n",
    "listo[1]"
   ]
  },
  {
   "cell_type": "code",
   "execution_count": 36,
   "metadata": {},
   "outputs": [
    {
     "data": {
      "text/plain": [
       "array([0.5, 1. , 1.5, 2. , 2.5, 3. , 3.5])"
      ]
     },
     "execution_count": 36,
     "metadata": {},
     "output_type": "execute_result"
    }
   ],
   "source": [
    "al = np.linspace(0,5,11)\n",
    "al[0] +=5\n",
    "bl = np.argwhere(al < 4).squeeze()\n",
    "\n",
    "bl\n",
    "\n",
    "al[bl]"
   ]
  },
  {
   "cell_type": "code",
   "execution_count": 41,
   "metadata": {},
   "outputs": [
    {
     "data": {
      "text/plain": [
       "array([[4, 1, 1, 4, 2, 1, 2, 4, 2, 2, 4, 3],\n",
       "       [1, 4, 4, 4, 1, 1, 4, 1, 2, 3, 4, 4]])"
      ]
     },
     "execution_count": 41,
     "metadata": {},
     "output_type": "execute_result"
    }
   ],
   "source": [
    "from numpy import random as rdm\n",
    "a=rdm.randint(1,5,size = [3,12])\n",
    "a\n",
    "a[0:2,:]"
   ]
  }
 ],
 "metadata": {
  "kernelspec": {
   "display_name": "base",
   "language": "python",
   "name": "python3"
  },
  "language_info": {
   "codemirror_mode": {
    "name": "ipython",
    "version": 3
   },
   "file_extension": ".py",
   "mimetype": "text/x-python",
   "name": "python",
   "nbconvert_exporter": "python",
   "pygments_lexer": "ipython3",
   "version": "3.10.0"
  },
  "orig_nbformat": 4
 },
 "nbformat": 4,
 "nbformat_minor": 2
}
