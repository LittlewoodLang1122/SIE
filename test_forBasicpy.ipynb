{
 "cells": [
  {
   "cell_type": "code",
   "execution_count": 1,
   "metadata": {},
   "outputs": [],
   "source": [
    "import numpy as np"
   ]
  },
  {
   "cell_type": "code",
   "execution_count": 38,
   "metadata": {},
   "outputs": [
    {
     "data": {
      "text/plain": [
       "1000"
      ]
     },
     "execution_count": 38,
     "metadata": {},
     "output_type": "execute_result"
    }
   ],
   "source": [
    "class phs():\n",
    "    def __init__(self) -> None:\n",
    "        self.games = 1000\n",
    "\n",
    "    def say(self):\n",
    "        print(\"I have {} games, I'm strong\".format(self.games))\n",
    "\n",
    "class phs2():\n",
    "    def __init__(self) -> None:\n",
    "        self.games = 100\n",
    "\n",
    "    def say(self):\n",
    "        print(\"I have {} games, I'm strong\".format(self.games))\n",
    "\n",
    "def ljn(p:'phs|phs2'):\n",
    "    return p.games\n",
    "\n",
    "p = phs()\n",
    "q = phs2()\n",
    "ljn(p)"
   ]
  }
 ],
 "metadata": {
  "kernelspec": {
   "display_name": "base",
   "language": "python",
   "name": "python3"
  },
  "language_info": {
   "codemirror_mode": {
    "name": "ipython",
    "version": 3
   },
   "file_extension": ".py",
   "mimetype": "text/x-python",
   "name": "python",
   "nbconvert_exporter": "python",
   "pygments_lexer": "ipython3",
   "version": "3.9.12"
  },
  "orig_nbformat": 4
 },
 "nbformat": 4,
 "nbformat_minor": 2
}
